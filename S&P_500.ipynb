{
  "nbformat": 4,
  "nbformat_minor": 0,
  "metadata": {
    "colab": {
      "provenance": [],
      "authorship_tag": "ABX9TyNzzPDVQ4sw1UAHdNxG0Plw",
      "include_colab_link": true
    },
    "kernelspec": {
      "name": "python3",
      "display_name": "Python 3"
    },
    "language_info": {
      "name": "python"
    }
  },
  "cells": [
    {
      "cell_type": "markdown",
      "metadata": {
        "id": "view-in-github",
        "colab_type": "text"
      },
      "source": [
        "<a href=\"https://colab.research.google.com/github/pfylim/education/blob/trading/S%26P_500.ipynb\" target=\"_parent\"><img src=\"https://colab.research.google.com/assets/colab-badge.svg\" alt=\"Open In Colab\"/></a>"
      ]
    },
    {
      "cell_type": "code",
      "execution_count": 9,
      "metadata": {
        "colab": {
          "base_uri": "https://localhost:8080/"
        },
        "id": "P0JcvrTAU7gG",
        "outputId": "a36dd625-bbff-4260-ba21-19b9c55c1b40"
      },
      "outputs": [
        {
          "output_type": "stream",
          "name": "stderr",
          "text": [
            "\r[                       0%%                      ]\r[*********************100%%**********************]  2 of 2 completed\n"
          ]
        },
        {
          "output_type": "stream",
          "name": "stdout",
          "text": [
            "126253\n",
            "{'MMM': '3M', 'AOS': 'A. O. Smith', 'ABT': 'Abbott', 'ABBV': 'AbbVie', 'ACN': 'Accenture', 'ADBE': 'Adobe Inc.', 'AMD': 'Advanced Micro Devices', 'AES': 'AES Corporation', 'AFL': 'Aflac', 'A': 'Agilent Technologies', 'APD': 'Air Products and Chemicals', 'ABNB': 'Airbnb', 'AKAM': 'Akamai', 'ALB': 'Albemarle Corporation', 'ARE': 'Alexandria Real Estate Equities', 'ALGN': 'Align Technology', 'ALLE': 'Allegion', 'LNT': 'Alliant Energy', 'ALL': 'Allstate', 'GOOGL': 'Alphabet Inc. (Class A)', 'GOOG': 'Alphabet Inc. (Class C)', 'MO': 'Altria', 'AMZN': 'Amazon', 'AMCR': 'Amcor', 'AEE': 'Ameren', 'AAL': 'American Airlines Group', 'AEP': 'American Electric Power', 'AXP': 'American Express', 'AIG': 'American International Group', 'AMT': 'American Tower', 'AWK': 'American Water Works', 'AMP': 'Ameriprise Financial', 'AME': 'Ametek', 'AMGN': 'Amgen', 'APH': 'Amphenol', 'ADI': 'Analog Devices', 'ANSS': 'Ansys', 'AON': 'Aon', 'APA': 'APA Corporation', 'AAPL': 'Apple Inc.', 'AMAT': 'Applied Materials', 'APTV': 'Aptiv', 'ACGL': 'Arch Capital Group', 'ADM': 'Archer-Daniels-Midland', 'ANET': 'Arista Networks', 'AJG': 'Arthur J. Gallagher & Co.', 'AIZ': 'Assurant', 'T': 'AT&T', 'ATO': 'Atmos Energy', 'ADSK': 'Autodesk', 'ADP': 'Automated Data Processing', 'AZO': 'AutoZone', 'AVB': 'AvalonBay Communities', 'AVY': 'Avery Dennison', 'AXON': 'Axon Enterprise', 'BKR': 'Baker Hughes', 'BALL': 'Ball Corporation', 'BAC': 'Bank of America', 'BK': 'Bank of New York Mellon', 'BBWI': 'Bath & Body Works, Inc.', 'BAX': 'Baxter International', 'BDX': 'Becton Dickinson', 'BRK.B': 'Berkshire Hathaway', 'BBY': 'Best Buy', 'BIO': 'Bio-Rad', 'TECH': 'Bio-Techne', 'BIIB': 'Biogen', 'BLK': 'BlackRock', 'BX': 'Blackstone', 'BA': 'Boeing', 'BKNG': 'Booking Holdings', 'BWA': 'BorgWarner', 'BXP': 'Boston Properties', 'BSX': 'Boston Scientific', 'BMY': 'Bristol Myers Squibb', 'AVGO': 'Broadcom Inc.', 'BR': 'Broadridge Financial Solutions', 'BRO': 'Brown & Brown', 'BF.B': 'Brown–Forman', 'BLDR': 'Builders FirstSource', 'BG': 'Bunge Global SA', 'CDNS': 'Cadence Design Systems', 'CZR': 'Caesars Entertainment', 'CPT': 'Camden Property Trust', 'CPB': 'Campbell Soup Company', 'COF': 'Capital One', 'CAH': 'Cardinal Health', 'KMX': 'CarMax', 'CCL': 'Carnival', 'CARR': 'Carrier Global', 'CTLT': 'Catalent', 'CAT': 'Caterpillar Inc.', 'CBOE': 'Cboe Global Markets', 'CBRE': 'CBRE Group', 'CDW': 'CDW', 'CE': 'Celanese', 'COR': 'Cencora', 'CNC': 'Centene Corporation', 'CNP': 'CenterPoint Energy', 'CF': 'CF Industries', 'CHRW': 'CH Robinson', 'CRL': 'Charles River Laboratories', 'SCHW': 'Charles Schwab Corporation', 'CHTR': 'Charter Communications', 'CVX': 'Chevron Corporation', 'CMG': 'Chipotle Mexican Grill', 'CB': 'Chubb Limited', 'CHD': 'Church & Dwight', 'CI': 'Cigna', 'CINF': 'Cincinnati Financial', 'CTAS': 'Cintas', 'CSCO': 'Cisco', 'C': 'Citigroup', 'CFG': 'Citizens Financial Group', 'CLX': 'Clorox', 'CME': 'CME Group', 'CMS': 'CMS Energy', 'KO': 'Coca-Cola Company (The)', 'CTSH': 'Cognizant', 'CL': 'Colgate-Palmolive', 'CMCSA': 'Comcast', 'CMA': 'Comerica', 'CAG': 'Conagra Brands', 'COP': 'ConocoPhillips', 'ED': 'Consolidated Edison', 'STZ': 'Constellation Brands', 'CEG': 'Constellation Energy', 'COO': 'CooperCompanies', 'CPRT': 'Copart', 'GLW': 'Corning Inc.', 'CTVA': 'Corteva', 'CSGP': 'CoStar Group', 'COST': 'Costco', 'CTRA': 'Coterra', 'CCI': 'Crown Castle', 'CSX': 'CSX', 'CMI': 'Cummins', 'CVS': 'CVS Health', 'DHR': 'Danaher Corporation', 'DRI': 'Darden Restaurants', 'DVA': 'DaVita Inc.', 'DAY': 'Dayforce', 'DE': 'John Deere', 'DAL': 'Delta Air Lines', 'XRAY': 'Dentsply Sirona', 'DVN': 'Devon Energy', 'DXCM': 'Dexcom', 'FANG': 'Diamondback Energy', 'DLR': 'Digital Realty', 'DFS': 'Discover Financial', 'DG': 'Dollar General', 'DLTR': 'Dollar Tree', 'D': 'Dominion Energy', 'DPZ': \"Domino's\", 'DOV': 'Dover Corporation', 'DOW': 'Dow Inc.', 'DHI': 'DR Horton', 'DTE': 'DTE Energy', 'DUK': 'Duke Energy', 'DD': 'DuPont', 'EMN': 'Eastman Chemical Company', 'ETN': 'Eaton Corporation', 'EBAY': 'eBay', 'ECL': 'Ecolab', 'EIX': 'Edison International', 'EW': 'Edwards Lifesciences', 'EA': 'Electronic Arts', 'ELV': 'Elevance Health', 'LLY': 'Eli Lilly and Company', 'EMR': 'Emerson Electric', 'ENPH': 'Enphase', 'ETR': 'Entergy', 'EOG': 'EOG Resources', 'EPAM': 'EPAM Systems', 'EQT': 'EQT', 'EFX': 'Equifax', 'EQIX': 'Equinix', 'EQR': 'Equity Residential', 'ESS': 'Essex Property Trust', 'EL': 'Estée Lauder Companies (The)', 'ETSY': 'Etsy', 'EG': 'Everest Re', 'EVRG': 'Evergy', 'ES': 'Eversource', 'EXC': 'Exelon', 'EXPE': 'Expedia Group', 'EXPD': 'Expeditors International', 'EXR': 'Extra Space Storage', 'XOM': 'ExxonMobil', 'FFIV': 'F5, Inc.', 'FDS': 'FactSet', 'FICO': 'Fair Isaac', 'FAST': 'Fastenal', 'FRT': 'Federal Realty', 'FDX': 'FedEx', 'FIS': 'Fidelity National Information Services', 'FITB': 'Fifth Third Bank', 'FSLR': 'First Solar', 'FE': 'FirstEnergy', 'FI': 'Fiserv', 'FLT': 'Fleetcor', 'FMC': 'FMC Corporation', 'F': 'Ford Motor Company', 'FTNT': 'Fortinet', 'FTV': 'Fortive', 'FOXA': 'Fox Corporation (Class A)', 'FOX': 'Fox Corporation (Class B)', 'BEN': 'Franklin Templeton', 'FCX': 'Freeport-McMoRan', 'GRMN': 'Garmin', 'IT': 'Gartner', 'GEHC': 'GE HealthCare', 'GEN': 'Gen Digital', 'GNRC': 'Generac', 'GD': 'General Dynamics', 'GE': 'General Electric', 'GIS': 'General Mills', 'GM': 'General Motors', 'GPC': 'Genuine Parts Company', 'GILD': 'Gilead Sciences', 'GPN': 'Global Payments', 'GL': 'Globe Life', 'GS': 'Goldman Sachs', 'HAL': 'Halliburton', 'HIG': 'Hartford (The)', 'HAS': 'Hasbro', 'HCA': 'HCA Healthcare', 'PEAK': 'Healthpeak', 'HSIC': 'Henry Schein', 'HSY': \"Hershey's\", 'HES': 'Hess Corporation', 'HPE': 'Hewlett Packard Enterprise', 'HLT': 'Hilton Worldwide', 'HOLX': 'Hologic', 'HD': 'Home Depot (The)', 'HON': 'Honeywell', 'HRL': 'Hormel Foods', 'HST': 'Host Hotels & Resorts', 'HWM': 'Howmet Aerospace', 'HPQ': 'HP Inc.', 'HUBB': 'Hubbell Incorporated', 'HUM': 'Humana', 'HBAN': 'Huntington Bancshares', 'HII': 'Huntington Ingalls Industries', 'IBM': 'IBM', 'IEX': 'IDEX Corporation', 'IDXX': 'Idexx Laboratories', 'ITW': 'Illinois Tool Works', 'ILMN': 'Illumina', 'INCY': 'Incyte', 'IR': 'Ingersoll Rand', 'PODD': 'Insulet', 'INTC': 'Intel', 'ICE': 'Intercontinental Exchange', 'IFF': 'International Flavors & Fragrances', 'IP': 'International Paper', 'IPG': 'Interpublic Group of Companies (The)', 'INTU': 'Intuit', 'ISRG': 'Intuitive Surgical', 'IVZ': 'Invesco', 'INVH': 'Invitation Homes', 'IQV': 'IQVIA', 'IRM': 'Iron Mountain', 'JBHT': 'J.B. Hunt', 'JBL': 'Jabil', 'JKHY': 'Jack Henry & Associates', 'J': 'Jacobs Solutions', 'JNJ': 'Johnson & Johnson', 'JCI': 'Johnson Controls', 'JPM': 'JPMorgan Chase', 'JNPR': 'Juniper Networks', 'K': 'Kellanova', 'KVUE': 'Kenvue', 'KDP': 'Keurig Dr Pepper', 'KEY': 'KeyCorp', 'KEYS': 'Keysight', 'KMB': 'Kimberly-Clark', 'KIM': 'Kimco Realty', 'KMI': 'Kinder Morgan', 'KLAC': 'KLA Corporation', 'KHC': 'Kraft Heinz', 'KR': 'Kroger', 'LHX': 'L3Harris', 'LH': 'LabCorp', 'LRCX': 'Lam Research', 'LW': 'Lamb Weston', 'LVS': 'Las Vegas Sands', 'LDOS': 'Leidos', 'LEN': 'Lennar', 'LIN': 'Linde plc', 'LYV': 'Live Nation Entertainment', 'LKQ': 'LKQ Corporation', 'LMT': 'Lockheed Martin', 'L': 'Loews Corporation', 'LOW': \"Lowe's\", 'LULU': 'Lululemon Athletica', 'LYB': 'LyondellBasell', 'MTB': 'M&T Bank', 'MRO': 'Marathon Oil', 'MPC': 'Marathon Petroleum', 'MKTX': 'MarketAxess', 'MAR': 'Marriott International', 'MMC': 'Marsh McLennan', 'MLM': 'Martin Marietta Materials', 'MAS': 'Masco', 'MA': 'Mastercard', 'MTCH': 'Match Group', 'MKC': 'McCormick & Company', 'MCD': \"McDonald's\", 'MCK': 'McKesson', 'MDT': 'Medtronic', 'MRK': 'Merck & Co.', 'META': 'Meta Platforms', 'MET': 'MetLife', 'MTD': 'Mettler Toledo', 'MGM': 'MGM Resorts', 'MCHP': 'Microchip Technology', 'MU': 'Micron Technology', 'MSFT': 'Microsoft', 'MAA': 'Mid-America Apartment Communities', 'MRNA': 'Moderna', 'MHK': 'Mohawk Industries', 'MOH': 'Molina Healthcare', 'TAP': 'Molson Coors Beverage Company', 'MDLZ': 'Mondelez International', 'MPWR': 'Monolithic Power Systems', 'MNST': 'Monster Beverage', 'MCO': \"Moody's Corporation\", 'MS': 'Morgan Stanley', 'MOS': 'Mosaic Company (The)', 'MSI': 'Motorola Solutions', 'MSCI': 'MSCI', 'NDAQ': 'Nasdaq, Inc.', 'NTAP': 'NetApp', 'NFLX': 'Netflix', 'NEM': 'Newmont', 'NWSA': 'News Corp (Class A)', 'NWS': 'News Corp (Class B)', 'NEE': 'NextEra Energy', 'NKE': 'Nike, Inc.', 'NI': 'NiSource', 'NDSN': 'Nordson Corporation', 'NSC': 'Norfolk Southern Railway', 'NTRS': 'Northern Trust', 'NOC': 'Northrop Grumman', 'NCLH': 'Norwegian Cruise Line Holdings', 'NRG': 'NRG Energy', 'NUE': 'Nucor', 'NVDA': 'Nvidia', 'NVR': 'NVR, Inc.', 'NXPI': 'NXP Semiconductors', 'ORLY': \"O'Reilly Auto Parts\", 'OXY': 'Occidental Petroleum', 'ODFL': 'Old Dominion', 'OMC': 'Omnicom Group', 'ON': 'ON Semiconductor', 'OKE': 'ONEOK', 'ORCL': 'Oracle Corporation', 'OTIS': 'Otis Worldwide', 'PCAR': 'Paccar', 'PKG': 'Packaging Corporation of America', 'PANW': 'Palo Alto Networks', 'PARA': 'Paramount Global', 'PH': 'Parker Hannifin', 'PAYX': 'Paychex', 'PAYC': 'Paycom', 'PYPL': 'PayPal', 'PNR': 'Pentair', 'PEP': 'PepsiCo', 'PFE': 'Pfizer', 'PCG': 'PG&E Corporation', 'PM': 'Philip Morris International', 'PSX': 'Phillips 66', 'PNW': 'Pinnacle West', 'PXD': 'Pioneer Natural Resources', 'PNC': 'PNC Financial Services', 'POOL': 'Pool Corporation', 'PPG': 'PPG Industries', 'PPL': 'PPL Corporation', 'PFG': 'Principal Financial Group', 'PG': 'Procter & Gamble', 'PGR': 'Progressive Corporation', 'PLD': 'Prologis', 'PRU': 'Prudential Financial', 'PEG': 'Public Service Enterprise Group', 'PTC': 'PTC', 'PSA': 'Public Storage', 'PHM': 'PulteGroup', 'QRVO': 'Qorvo', 'PWR': 'Quanta Services', 'QCOM': 'Qualcomm', 'DGX': 'Quest Diagnostics', 'RL': 'Ralph Lauren Corporation', 'RJF': 'Raymond James', 'RTX': 'RTX Corporation', 'O': 'Realty Income', 'REG': 'Regency Centers', 'REGN': 'Regeneron', 'RF': 'Regions Financial Corporation', 'RSG': 'Republic Services', 'RMD': 'ResMed', 'RVTY': 'Revvity (Previously PerkinElmer)', 'RHI': 'Robert Half', 'ROK': 'Rockwell Automation', 'ROL': 'Rollins, Inc.', 'ROP': 'Roper Technologies', 'ROST': 'Ross Stores', 'RCL': 'Royal Caribbean Group', 'SPGI': 'S&P Global', 'CRM': 'Salesforce', 'SBAC': 'SBA Communications', 'SLB': 'Schlumberger', 'STX': 'Seagate Technology', 'SRE': 'Sempra Energy', 'NOW': 'ServiceNow', 'SHW': 'Sherwin-Williams', 'SPG': 'Simon Property Group', 'SWKS': 'Skyworks Solutions', 'SJM': 'J.M. Smucker Company (The)', 'SNA': 'Snap-on', 'SO': 'Southern Company', 'LUV': 'Southwest Airlines', 'SWK': 'Stanley Black & Decker', 'SBUX': 'Starbucks', 'STT': 'State Street Corporation', 'STLD': 'Steel Dynamics', 'STE': 'Steris', 'SYK': 'Stryker Corporation', 'SYF': 'Synchrony Financial', 'SNPS': 'Synopsys', 'SYY': 'Sysco', 'TMUS': 'T-Mobile US', 'TROW': 'T. Rowe Price', 'TTWO': 'Take-Two Interactive', 'TPR': 'Tapestry, Inc.', 'TRGP': 'Targa Resources', 'TGT': 'Target Corporation', 'TEL': 'TE Connectivity', 'TDY': 'Teledyne Technologies', 'TFX': 'Teleflex', 'TER': 'Teradyne', 'TSLA': 'Tesla, Inc.', 'TXN': 'Texas Instruments', 'TXT': 'Textron', 'TMO': 'Thermo Fisher Scientific', 'TJX': 'TJX Companies', 'TSCO': 'Tractor Supply', 'TT': 'Trane Technologies', 'TDG': 'TransDigm Group', 'TRV': 'Travelers Companies (The)', 'TRMB': 'Trimble Inc.', 'TFC': 'Truist', 'TYL': 'Tyler Technologies', 'TSN': 'Tyson Foods', 'USB': 'U.S. Bank', 'UBER': 'Uber', 'UDR': 'UDR, Inc.', 'ULTA': 'Ulta Beauty', 'UNP': 'Union Pacific Corporation', 'UAL': 'United Airlines Holdings', 'UPS': 'United Parcel Service', 'URI': 'United Rentals', 'UNH': 'UnitedHealth Group', 'UHS': 'Universal Health Services', 'VLO': 'Valero Energy', 'VTR': 'Ventas', 'VLTO': 'Veralto', 'VRSN': 'Verisign', 'VRSK': 'Verisk', 'VZ': 'Verizon', 'VRTX': 'Vertex Pharmaceuticals', 'VFC': 'VF Corporation', 'VTRS': 'Viatris', 'VICI': 'Vici Properties', 'V': 'Visa Inc.', 'VMC': 'Vulcan Materials Company', 'WRB': 'Berkley', 'WAB': 'Wabtec', 'WBA': 'Walgreens Boots Alliance', 'WMT': 'Walmart', 'DIS': 'Walt Disney', 'WBD': 'Warner Bros. Discovery', 'WM': 'Waste Management', 'WAT': 'Waters Corporation', 'WEC': 'WEC Energy Group', 'WFC': 'Wells Fargo', 'WELL': 'Welltower', 'WST': 'West Pharmaceutical Services', 'WDC': 'Western Digital', 'WRK': 'WestRock', 'WY': 'Weyerhaeuser', 'WHR': 'Whirlpool Corporation', 'WMB': 'Williams Companies', 'WTW': 'Willis Towers Watson', 'GWW': 'W. W. Grainger', 'WYNN': 'Wynn Resorts', 'XEL': 'Xcel Energy', 'XYL': 'Xylem Inc.', 'YUM': 'Yum! Brands', 'ZBRA': 'Zebra Technologies', 'ZBH': 'Zimmer Biomet', 'ZION': 'Zions Bancorporation', 'ZTS': 'Zoetis'}\n",
            "Price       Adj Close                  Close                   High  \\\n",
            "Ticker            AOS         MMM        AOS         MMM        AOS   \n",
            "Date                                                                  \n",
            "2023-01-03  58.919998  122.470001  58.919998  122.470001  59.090000   \n",
            "2023-01-04  60.660000  125.150002  60.660000  125.150002  60.799999   \n",
            "2023-01-05  59.380001  122.959999  59.380001  122.959999  60.470001   \n",
            "2023-01-06  61.439999  126.720001  61.439999  126.720001  61.680000   \n",
            "2023-01-09  61.490002  126.790001  61.490002  126.790001  63.099998   \n",
            "...               ...         ...        ...         ...        ...   \n",
            "2023-12-22  81.730003  106.330002  81.730003  106.330002  82.029999   \n",
            "2023-12-26  81.849998  108.110001  81.849998  108.110001  82.059998   \n",
            "2023-12-27  82.160004  108.739998  82.160004  108.739998  82.400002   \n",
            "2023-12-28  82.239998  109.690002  82.239998  109.690002  82.440002   \n",
            "2023-12-29  82.440002  109.320000  82.440002  109.320000  82.769997   \n",
            "\n",
            "Price                         Low                   Open               Volume  \\\n",
            "Ticker             MMM        AOS         MMM        AOS         MMM      AOS   \n",
            "Date                                                                            \n",
            "2023-01-03  122.639999  57.450001  120.370003  57.860001  121.519997  1366200   \n",
            "2023-01-04  125.290001  59.419998  122.709999  59.660000  123.349998  1054400   \n",
            "2023-01-05  124.570000  58.930000  122.459999  60.020000  124.209999   990300   \n",
            "2023-01-06  127.129997  59.849998  123.750000  60.049999  124.660004   831700   \n",
            "2023-01-09  129.460007  61.299999  126.110001  61.549999  127.000000  1195900   \n",
            "...                ...        ...         ...        ...         ...      ...   \n",
            "2023-12-22  107.410004  81.239998  105.750000  81.949997  105.879997   449400   \n",
            "2023-12-26  108.589996  81.419998  106.269997  81.699997  106.300003   420400   \n",
            "2023-12-27  109.099998  81.690002  107.680000  81.980003  108.000000   441700   \n",
            "2023-12-28  110.180000  81.830002  108.650002  81.930000  108.660004   452800   \n",
            "2023-12-29  109.959999  82.029999  108.750000  82.029999  109.500000   610900   \n",
            "\n",
            "Price                \n",
            "Ticker          MMM  \n",
            "Date                 \n",
            "2023-01-03  2612800  \n",
            "2023-01-04  2769700  \n",
            "2023-01-05  2606600  \n",
            "2023-01-06  2417000  \n",
            "2023-01-09  2871300  \n",
            "...             ...  \n",
            "2023-12-22  2281400  \n",
            "2023-12-26  2786100  \n",
            "2023-12-27  2443800  \n",
            "2023-12-28  2809600  \n",
            "2023-12-29  2414000  \n",
            "\n",
            "[250 rows x 12 columns]\n"
          ]
        }
      ],
      "source": [
        "import bs4 as bs\n",
        "import pickle\n",
        "import requests\n",
        "import lxml\n",
        "import yfinance as yf\n",
        "import datetime\n",
        "\n",
        "\n",
        "import itertools as it\n",
        "\n",
        "comp_names = {}\n",
        "def GetSP500Tickers():\n",
        "\n",
        "    resp = requests.get('https://en.wikipedia.org/wiki/List_of_S%26P_500_companies')\n",
        "    soup = bs.BeautifulSoup(resp.text,'lxml')\n",
        "    table = soup.find('table', {'class': 'wikitable sortable'})\n",
        "\n",
        "    tickers = []\n",
        "\n",
        "    for row in table.findAll('tr')[1:]:\n",
        "        ticker = row.findAll('td')[0].text.strip()\n",
        "        comp_names[ticker] = row.findAll('td')[1].text\n",
        "        tickers.append(ticker)\n",
        "\n",
        "    # with open(\"sp500tickers.pickle\", \"wb\") as f:\n",
        "    #     pickle.dump(tickers, f)\n",
        "    # print(tickers)\n",
        "\n",
        "    return tickers\n",
        "\n",
        "tickers = GetSP500Tickers()\n",
        "\n",
        "combos = list(it.combinations(tickers, 2))\n",
        "print(len(combos))\n",
        "\n",
        "start = datetime.datetime(2023, 1, 1)\n",
        "end = datetime.datetime(2024, 1, 1)\n",
        "\n",
        "# Download the data from Yahoo Finance\n",
        "# data = yf.download(tickers, start=start, end=end)\n",
        "\n",
        "data = yf.download(combos[0], start=start, end=end)\n",
        "# Print the data\n",
        "print(comp_names)\n",
        "print(data)"
      ]
    },
    {
      "cell_type": "code",
      "source": [],
      "metadata": {
        "colab": {
          "base_uri": "https://localhost:8080/"
        },
        "id": "qEGlsWVJVMC4",
        "outputId": "b9b7cea6-5def-4a7f-978d-894b78826084"
      },
      "execution_count": null,
      "outputs": [
        {
          "output_type": "stream",
          "name": "stderr",
          "text": [
            "\r[**********************82%%*************         ]  413 of 503 completed"
          ]
        }
      ]
    }
  ]
}